{
 "cells": [
  {
   "cell_type": "code",
   "execution_count": 6,
   "metadata": {},
   "outputs": [],
   "source": [
    "import matplotlib.pyplot as plt\n",
    "import seaborn as sns\n",
    "import numpy as np\n",
    "import pandas as pd\n",
    "import json\n",
    "from pprint import pprint\n",
    "import codecs\n",
    "import re\n",
    "import requests\n",
    "import time\n",
    "\n",
    "import dns\n",
    "\n",
    "import urllib.parse\n",
    "from IPython.display import clear_output"
   ]
  },
  {
   "cell_type": "code",
   "execution_count": 181,
   "metadata": {},
   "outputs": [
    {
     "name": "stdout",
     "output_type": "stream",
     "text": [
      "200000 lines already processed.\n"
     ]
    }
   ],
   "source": [
    "count = 0\n",
    "sum_coordinates = 0\n",
    "sum_place  = 0\n",
    "sum_location = 0\n",
    "location_list = []\n",
    "\n",
    "with codecs.open(r'C:\\Users\\Marcelo\\Downloads\\amostra.json', 'r', 'utf-8') as f:\n",
    "    for line in f:\n",
    "        count += 1\n",
    "        if count % 20000 == 0: \n",
    "            clear_output()\n",
    "            print(count, 'lines already processed.')\n",
    "        tweet = json.loads(line)\n",
    "        if tweet['coordinates'] is not None: sum_coordinates += 1\n",
    "        if tweet['place'] is not None: sum_place += 1\n",
    "        location_list.append(tweet['user']['location'])"
   ]
  },
  {
   "cell_type": "markdown",
   "metadata": {},
   "source": [
    "* Exemplo de município da API do nominatim: http://oxumare.ctweb.inweb.org.br:8081/search?q=Par%C3%A1+de+Minas&format=json&addressdetail:1"
   ]
  },
  {
   "cell_type": "markdown",
   "metadata": {},
   "source": [
    "#### error types\n",
    "* ConnectionError: ('Connection aborted.', ConnectionAbortedError(10053, 'An established connection was aborted by the software in your host machine', None, 10053, None))\n",
    "* ConnectionError: HTTPConnectionPool(host='oxumare.ctweb.inweb.org.br', port=8081): Max retries exceeded with url: /search?q=S%C3%A3o+Paulo&format=json&addressdetail:1 (Caused by NewConnectionError('<urllib3.connection.HTTPConnection object at 0x000001601C9142E8>: Failed to establish a new connection: [Errno 11001] getaddrinfo failed'))\n",
    "* ConnectionError: HTTPConnectionPool(host='oxumare.ctweb.inweb.org.br', port=8081): Max retries exceeded with url: /search?q=Londrina&format=json&addressdetail:1 (Caused by NewConnectionError('<urllib3.connection.HTTPConnection object at 0x0000016027088588>: Failed to establish a new connection: [Errno 11001] getaddrinfo failed'))"
   ]
  },
  {
   "cell_type": "code",
   "execution_count": null,
   "metadata": {},
   "outputs": [],
   "source": [
    "for location in location_list:\n",
    "    location = re.sub('(.*),.*', r'\\1', location)\n",
    "    location = urllib.parse.quote(location)\n",
    "    location = re.sub('\\%20', '+', location)\n",
    "    url = 'http://oxumare.ctweb.inweb.org.br:8081/search?q='+location+'&format=json&addressdetail:1'\n",
    "    try: r = requests.get(url)\n",
    "    except Exception as error:\n",
    "        print(\"\\033[91m\", error)\n",
    "        print('count: ', count_temp)\n",
    "        error = str(error)\n",
    "        if '10053' in error or 'Errno 11001' in error:\n",
    "            time.sleep(30)\n",
    "        r = requests.get(url)\n",
    "        pass\n",
    "    if r.text=='[]' or r.text=='': continue\n",
    "    location_json = json.loads(r.text)[0]\n",
    "    country = location_json['display_name'][-6:]\n",
    "    if location_json['type'] == 'city' and country == 'Brasil':\n",
    "        true_loc_list.append(location_json)\n",
    "    count_temp+=1\n",
    "    if count_temp % 200 == 0: \n",
    "        clear_output()\n",
    "        print(count_temp, 'lines already processed.')"
   ]
  },
  {
   "cell_type": "code",
   "execution_count": 328,
   "metadata": {},
   "outputs": [
    {
     "data": {
      "text/plain": [
       "108402"
      ]
     },
     "execution_count": 328,
     "metadata": {},
     "output_type": "execute_result"
    }
   ],
   "source": [
    "count_temp"
   ]
  },
  {
   "cell_type": "code",
   "execution_count": 329,
   "metadata": {},
   "outputs": [
    {
     "data": {
      "text/plain": [
       "48823"
      ]
     },
     "execution_count": 329,
     "metadata": {},
     "output_type": "execute_result"
    }
   ],
   "source": [
    "len(true_loc_list)"
   ]
  },
  {
   "cell_type": "code",
   "execution_count": 330,
   "metadata": {},
   "outputs": [
    {
     "data": {
      "text/plain": [
       "45.038836921828015"
      ]
     },
     "execution_count": 330,
     "metadata": {},
     "output_type": "execute_result"
    }
   ],
   "source": [
    "len(true_loc_list)/count_temp*100"
   ]
  },
  {
   "cell_type": "code",
   "execution_count": 331,
   "metadata": {},
   "outputs": [],
   "source": [
    "sum_location = len(true_loc_list)"
   ]
  },
  {
   "cell_type": "code",
   "execution_count": 347,
   "metadata": {},
   "outputs": [
    {
     "name": "stdout",
     "output_type": "stream",
     "text": [
      "SP\n",
      "SP\n",
      "Duque de Caxias\n",
      "Florianópolis\n",
      "Diadema\n",
      "Apucarana\n",
      "Florianópolis\n",
      "BH\n",
      "Teresina\n",
      "BH\n"
     ]
    }
   ],
   "source": [
    "#amostragem rápida\n",
    "for loc in true_loc_list[:10]:\n",
    "    municipality = loc['display_name']\n",
    "    municipality = re.sub('(.*?),.*', r'\\1', municipality)\n",
    "    print(municipality)"
   ]
  },
  {
   "cell_type": "code",
   "execution_count": 332,
   "metadata": {},
   "outputs": [
    {
     "name": "stdout",
     "output_type": "stream",
     "text": [
      "200000 196 5871 48823\n"
     ]
    }
   ],
   "source": [
    "print(count, sum_coordinates,sum_place, sum_location)"
   ]
  },
  {
   "cell_type": "code",
   "execution_count": 334,
   "metadata": {},
   "outputs": [],
   "source": [
    "perc_coordinates = sum_coordinates/count*100\n",
    "perc_place = sum_place/count*100\n",
    "perc_location = sum_location/count_temp*100"
   ]
  },
  {
   "cell_type": "code",
   "execution_count": 337,
   "metadata": {},
   "outputs": [
    {
     "data": {
      "image/png": "[encoded data removed]",
      "text/plain": [
       "<Figure size 288x288 with 1 Axes>"
      ]
     },
     "metadata": {
      "needs_background": "light"
     },
     "output_type": "display_data"
    }
   ],
   "source": [
    "objects = ('coordinates', 'place', 'location')\n",
    "y_pos = np.arange(len(objects))\n",
    "performance = [perc_coordinates,perc_place, perc_location]\n",
    "\n",
    "plt.figure(figsize=(4,4))\n",
    "plt.bar(y_pos, performance, width = 0.1, align='center')\n",
    "plt.xticks(y_pos, objects)\n",
    "#plt.yticks(np.arange(0, 110, step=10))\n",
    "plt.ylabel('Percentage')\n",
    "plt.title('Features by non missing occurrence (%)')\n",
    "plt.annotate('Note: the feature \"location\" has no missing value.', (0,0), (-30, -40), xycoords='axes fraction', textcoords='offset points', va='top')\n",
    "\n",
    "plt.show()"
   ]
  },
  {
   "cell_type": "code",
   "execution_count": 338,
   "metadata": {},
   "outputs": [
    {
     "name": "stdout",
     "output_type": "stream",
     "text": [
      "coordinates (%):  0.098\n",
      "places (%): 2.9354999999999998\n",
      "location (%): 45.038836921828015\n"
     ]
    }
   ],
   "source": [
    "print('coordinates (%): ', perc_coordinates)\n",
    "print('places (%):', perc_place)\n",
    "print('location (%):', perc_location)"
   ]
  }
 ],
 "metadata": {
  "kernelspec": {
   "display_name": "Python 3",
   "language": "python",
   "name": "python3"
  },
  "language_info": {
   "codemirror_mode": {
    "name": "ipython",
    "version": 3
   },
   "file_extension": ".py",
   "mimetype": "text/x-python",
   "name": "python",
   "nbconvert_exporter": "python",
   "pygments_lexer": "ipython3",
   "version": "3.7.1"
  }
 },
 "nbformat": 4,
 "nbformat_minor": 2
}
